{
 "cells": [
  {
   "cell_type": "markdown",
   "metadata": {},
   "source": [
    "This project uses the famous MNIST database to identify number images from 0 to 9. These grayscale images have a size of 28 x 28 pixels. The objective is to surpass the 99% in the validation accuracy."
   ]
  },
  {
   "cell_type": "code",
   "execution_count": 1,
   "metadata": {},
   "outputs": [],
   "source": [
    "# Importing the necessary libraries\n",
    "from keras.datasets import mnist\n",
    "from keras.models import Sequential\n",
    "from keras.optimizers import RMSprop\n",
    "from keras.layers import Dense, Flatten, Conv2D, MaxPool2D\n",
    "from keras.callbacks import ModelCheckpoint\n",
    "import matplotlib.pyplot as plt"
   ]
  },
  {
   "cell_type": "code",
   "execution_count": 2,
   "metadata": {},
   "outputs": [],
   "source": [
    "# Loading the data into the training and test sets \n",
    "(x_train, y_train), (x_test, y_test) = mnist.load_data()"
   ]
  },
  {
   "cell_type": "code",
   "execution_count": 3,
   "metadata": {},
   "outputs": [],
   "source": [
    "# Converting the data points into float32 in order to process it correctly and normalizing them\n",
    "x_train = x_train.astype('float32') / 255\n",
    "x_test = x_test.astype('float32') / 255"
   ]
  },
  {
   "cell_type": "code",
   "execution_count": 4,
   "metadata": {},
   "outputs": [],
   "source": [
    "# Reshaping the data to the original image sizes (28 * 28)\n",
    "x_train = x_train.reshape(-1,28,28,1)\n",
    "x_test = x_test.reshape(-1,28,28,1)"
   ]
  },
  {
   "cell_type": "code",
   "execution_count": 5,
   "metadata": {},
   "outputs": [],
   "source": [
    "# Creating the model\n",
    "model = Sequential()\n",
    "\n",
    "model.add(Conv2D(filters = 4, kernel_size = (5,5),padding = 'Same', \n",
    "                 activation ='relu', input_shape = (28,28,1)))\n",
    "model.add(Conv2D(filters = 8, kernel_size = (5,5),padding = 'Same', \n",
    "                 activation ='relu'))\n",
    "model.add(MaxPool2D(pool_size=(2,2), strides=(1, 1)))\n",
    "\n",
    "model.add(Conv2D(filters = 16, kernel_size = (5,5),padding = 'Same', \n",
    "                 activation ='relu'))\n",
    "model.add(Conv2D(filters = 32, kernel_size = (5,5),padding = 'Same', \n",
    "                 activation ='relu'))\n",
    "model.add(MaxPool2D(pool_size=(2,2), strides=(1, 1)))\n",
    "\n",
    "model.add(Conv2D(filters = 64, kernel_size = (5,5),padding = 'Same', \n",
    "                 activation ='relu'))\n",
    "model.add(Conv2D(filters = 128, kernel_size = (5,5),padding = 'Same', \n",
    "                 activation ='relu'))\n",
    "model.add(MaxPool2D(pool_size=(2,2), strides=(1, 1)))\n",
    "\n",
    "model.add(Flatten())\n",
    "model.add(Dense(256, activation = \"relu\"))\n",
    "model.add(Dense(10, activation = \"softmax\"))"
   ]
  },
  {
   "cell_type": "code",
   "execution_count": 6,
   "metadata": {},
   "outputs": [],
   "source": [
    "# Creating a Model Checkpoint to save the model when its validation accuracy is at its highest\n",
    "mc = ModelCheckpoint('best_model.h5', monitor='val_accuracy', mode='max', verbose=1, save_best_only=True)"
   ]
  },
  {
   "cell_type": "code",
   "execution_count": 7,
   "metadata": {},
   "outputs": [],
   "source": [
    "# Compiling the model\n",
    "model.compile(optimizer = RMSprop(learning_rate=0.001, rho=0.9, epsilon=1e-08, decay=0.0)\n",
    "              , loss = \"sparse_categorical_crossentropy\", metrics=[\"accuracy\"])\n",
    "        "
   ]
  },
  {
   "cell_type": "code",
   "execution_count": 8,
   "metadata": {},
   "outputs": [
    {
     "name": "stdout",
     "output_type": "stream",
     "text": [
      "Epoch 1/10\n",
      "120/120 [==============================] - 732s 6s/step - loss: 1.5861 - accuracy: 0.5751 - val_loss: 0.0664 - val_accuracy: 0.9774\n",
      "\n",
      "Epoch 00001: val_accuracy improved from -inf to 0.97740, saving model to best_model.h5\n",
      "Epoch 2/10\n",
      "120/120 [==============================] - 667s 6s/step - loss: 0.0989 - accuracy: 0.9692 - val_loss: 0.0359 - val_accuracy: 0.9883\n",
      "\n",
      "Epoch 00002: val_accuracy improved from 0.97740 to 0.98830, saving model to best_model.h5\n",
      "Epoch 3/10\n",
      "120/120 [==============================] - 694s 6s/step - loss: 0.0455 - accuracy: 0.9860 - val_loss: 0.0280 - val_accuracy: 0.9901\n",
      "\n",
      "Epoch 00003: val_accuracy improved from 0.98830 to 0.99010, saving model to best_model.h5\n",
      "Epoch 4/10\n",
      "120/120 [==============================] - 724s 6s/step - loss: 0.0284 - accuracy: 0.9911 - val_loss: 0.0316 - val_accuracy: 0.9895\n",
      "\n",
      "Epoch 00004: val_accuracy did not improve from 0.99010\n",
      "Epoch 5/10\n",
      "120/120 [==============================] - 671s 6s/step - loss: 0.0220 - accuracy: 0.9932 - val_loss: 0.0218 - val_accuracy: 0.9930\n",
      "\n",
      "Epoch 00005: val_accuracy improved from 0.99010 to 0.99300, saving model to best_model.h5\n",
      "Epoch 6/10\n",
      "120/120 [==============================] - 658s 5s/step - loss: 0.0140 - accuracy: 0.9955 - val_loss: 0.0411 - val_accuracy: 0.9908\n",
      "\n",
      "Epoch 00006: val_accuracy did not improve from 0.99300\n",
      "Epoch 7/10\n",
      "120/120 [==============================] - 655s 5s/step - loss: 0.0128 - accuracy: 0.9959 - val_loss: 0.0291 - val_accuracy: 0.9926\n",
      "\n",
      "Epoch 00007: val_accuracy did not improve from 0.99300\n",
      "Epoch 8/10\n",
      "120/120 [==============================] - 675s 6s/step - loss: 0.0089 - accuracy: 0.9972 - val_loss: 0.0277 - val_accuracy: 0.9923\n",
      "\n",
      "Epoch 00008: val_accuracy did not improve from 0.99300\n",
      "Epoch 9/10\n",
      "120/120 [==============================] - 666s 6s/step - loss: 0.0073 - accuracy: 0.9973 - val_loss: 0.0271 - val_accuracy: 0.9929\n",
      "\n",
      "Epoch 00009: val_accuracy did not improve from 0.99300\n",
      "Epoch 10/10\n",
      "120/120 [==============================] - 702s 6s/step - loss: 0.0060 - accuracy: 0.9979 - val_loss: 0.0315 - val_accuracy: 0.9925\n",
      "\n",
      "Epoch 00010: val_accuracy did not improve from 0.99300\n"
     ]
    }
   ],
   "source": [
    "# Fitting the model\n",
    "history = model.fit(x_train, y_train,batch_size=500,epochs= 10, verbose=1, validation_data=(x_test, y_test), \n",
    "                    callbacks=[mc])"
   ]
  },
  {
   "cell_type": "code",
   "execution_count": 9,
   "metadata": {},
   "outputs": [
    {
     "data": {
      "image/png": "[encoded data removed]",
      "text/plain": [
       "<Figure size 432x288 with 1 Axes>"
      ]
     },
     "metadata": {
      "needs_background": "light"
     },
     "output_type": "display_data"
    }
   ],
   "source": [
    "# Plotting the training and validation accuracy of the model to compare them\n",
    "plt.plot(history.history['accuracy'], label = 'Training')\n",
    "plt.plot(history.history['val_accuracy'], label = 'Validation')\n",
    "plt.title(\"Model Accuracy\")\n",
    "plt.xlabel(\"Epochs\")\n",
    "plt.ylabel(\"Accuracy\")\n",
    "plt.legend(loc=(1.04,0))\n",
    "plt.show()"
   ]
  },
  {
   "cell_type": "markdown",
   "metadata": {},
   "source": [
    "The best model considering the validation accuracy (val_accuracy) was 99.30% on the 5th epoch, which is a very high accuracy and could be considered a top-performing model (+99% accuracy). We can see after comparing both training and validation that there was neither overfitting nor underfitting."
   ]
  }
 ],
 "metadata": {
  "kernelspec": {
   "display_name": "Python 3",
   "language": "python",
   "name": "python3"
  },
  "language_info": {
   "codemirror_mode": {
    "name": "ipython",
    "version": 3
   },
   "file_extension": ".py",
   "mimetype": "text/x-python",
   "name": "python",
   "nbconvert_exporter": "python",
   "pygments_lexer": "ipython3",
   "version": "3.9.6"
  }
 },
 "nbformat": 4,
 "nbformat_minor": 4
}
